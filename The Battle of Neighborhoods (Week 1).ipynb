{
    "nbformat_minor": 1, 
    "cells": [
        {
            "source": "# The Battle of Neighborhoods\n\nCoursera - Applied Data Science Capstone by IBM", 
            "cell_type": "markdown", 
            "metadata": {
                "collapsed": true
            }
        }, 
        {
            "source": "## Table Of Contents\n\n- [Introduction & Business Problem](#introduction)\n- [Data](#data)", 
            "cell_type": "markdown", 
            "metadata": {}
        }, 
        {
            "source": "## Introduction & Business Problem <a name=\"introduction\"></a>", 
            "cell_type": "markdown", 
            "metadata": {}
        }, 
        {
            "source": "### Background\n\nToronto is the largest and the most populous city in Canada. It is an international centre of business, finance, arts, and culture, and is recognized as one of the most multicultural and cosmopolitan cities in the world. The diverse population of Toronto reflects its current and historical role as an important destination for immigrants to Canada. Over 200 distinct ethnic origins are represented among its inhabitants and while the majority of population speak English as their primary language, over 160 languages are spoken in the city.\n\nGiven the population and diversity of Toronto, the market is mostly saturated and leads to a competitive environment for business owners. Starting a new business will be more successful if extensive analysis is done in a structured manner and insights will help to choose the right business model and structure.", 
            "cell_type": "markdown", 
            "metadata": {}
        }, 
        {
            "source": "### Problem Statement\n\nIn a city as diverse and developed like Toronto, opening a yoga studio is an exciting but also an exhausting task. Once decided, the next step should be finding an ideal location for the studio. Multiple factors are needed to be analysed for the best location which include but not limited to:\n\n- Style of operation\n- Demographics\n- Foot traffic\n- Accesibility and parking\n- Competition\n- Proximity to other businesses and services\n\nIt's crucial to find the best location for a yoga studio and if successful same recommendations can be used to expand into other neighbourhoods of Toronto.", 
            "cell_type": "markdown", 
            "metadata": {}
        }, 
        {
            "source": "### Target Audience\n\nThe research is going to be interested by anyone who is planning to open a yoga studio in Toronto. Goal is to identify and recommend which neighbourhood(s) should be the targeted to open a yoga studio.", 
            "cell_type": "markdown", 
            "metadata": {}
        }, 
        {
            "source": "## Data <a name=\"data\"></a>", 
            "cell_type": "markdown", 
            "metadata": {}
        }, 
        {
            "source": "Multiple datasets will be used for analysing city of Toronto and the best neighbourhood for opening a yoga studio.", 
            "cell_type": "markdown", 
            "metadata": {}
        }, 
        {
            "source": "#### Dataset 1: Toronto Neighbourhoods\n\nA list boroughs and neighbourhoods of Toronto is essential in order to analyse the neighbourhoods. This dataset will be used to capture the coordinates of specific neighbourhoods.\n\nDataset is available on Toronto Open Data website at https://open.toronto.ca/dataset/neighbourhoods/<br>CSV file can be found at https://ckan0.cf.opendata.inter.prod-toronto.ca/download_resource/a083c865-6d60-4d1d-b6c6-b0c8a85f9c15?format=csv&projection=4326", 
            "cell_type": "markdown", 
            "metadata": {}
        }, 
        {
            "source": "#### Dataset 2: Toronto Demographics\n\nCapturing neighbourhoods and their demographics are critical. Multiple factors will be included in the analysis, such as population, density, average income. Demographics dataset will be enriched with Toronto neighbourhoods for further insights.\n\nDataset is available on Wikipedia at https://en.wikipedia.org/wiki/Demographics_of_Toronto_neighbourhoods", 
            "cell_type": "markdown", 
            "metadata": {}
        }, 
        {
            "source": "#### Dataset 3: List of Point of Interest in Toronto\n\nPoint of Interest dataset will be used to cluster neighbourhoods in Toronto based on the similarity / relevance of POIs. List of yoga studios and gym will enable untapped markets and set of specific categories such as residences, professional services, and shops will be used to identify the similarity of the neighbourhoods.\n\n*Foursquare Places API* will be used to capture POIs. More information can be found at https://developer.foursquare.com/places-api", 
            "cell_type": "markdown", 
            "metadata": {}
        }
    ], 
    "metadata": {
        "kernelspec": {
            "display_name": "Python 3.6", 
            "name": "python3", 
            "language": "python"
        }, 
        "language_info": {
            "mimetype": "text/x-python", 
            "nbconvert_exporter": "python", 
            "version": "3.6.8", 
            "name": "python", 
            "file_extension": ".py", 
            "pygments_lexer": "ipython3", 
            "codemirror_mode": {
                "version": 3, 
                "name": "ipython"
            }
        }
    }, 
    "nbformat": 4
}